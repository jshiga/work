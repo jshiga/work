{
 "cells": [
  {
   "cell_type": "code",
   "execution_count": 10,
   "id": "a9df47ab-b705-4078-9bca-c768a45df005",
   "metadata": {},
   "outputs": [],
   "source": [
    "import kfp.dsl as dsl\n",
    "import kfp\n",
    "from kfp.v2 import compiler\n",
    "from kfp.v2.google.client import AIPlatformClient\n",
    "from kfp.v2.dsl import component,Model,Output,Dataset\n",
    "from typing import List,Union,Tuple,NamedTuple\n",
    "from kfp.v2.dsl import Input, Model, Output, Dataset, Metrics, ClassificationMetrics, component, Artifact\n",
    "from typing import *"
   ]
  },
  {
   "cell_type": "code",
   "execution_count": 11,
   "id": "fc30c2a3-4b71-4d6d-9ce7-92cca5f80c04",
   "metadata": {},
   "outputs": [],
   "source": [
    "@component(\n",
    "    base_image='gcr.io/deeplearning-platform-release/sklearn-cpu:latest'\n",
    ")\n",
    "def dump_data_op(\n",
    "    output_dataset: Output[Dataset]\n",
    ")->None:\n",
    "    \n",
    "    from sklearn.datasets import load_wine\n",
    "    import pandas as pd\n",
    "    import os\n",
    "    import pickle\n",
    "\n",
    "    X, y = load_wine(return_X_y=True)\n",
    "    y = y == 1\n",
    "\n",
    "    os.makedirs(output_dataset.path, exist_ok=True)\n",
    "    with open(os.path.join(output_dataset.path, 'x.pkl'), \"wb\") as f:\n",
    "        pickle.dump(pd.DataFrame(X), f)\n",
    "    with open(os.path.join(output_dataset.path, 'y.pkl'), \"wb\") as f:\n",
    "        pickle.dump(pd.DataFrame(y), f)\n",
    "    \n",
    "    \n"
   ]
  },
  {
   "cell_type": "code",
   "execution_count": 12,
   "id": "8b7be5bb-b930-4763-88c0-a9197ac65109",
   "metadata": {},
   "outputs": [],
   "source": [
    "PROJECT_ID = \"XXXX\"\n",
    "BUCKET_NAME = 'XXXX'\n",
    "PIPELINE_NAME = 'pipeline-test-dockernise-models'\n",
    "PIPELINE_ROOT = 'gs://XXXX'\n",
    "@dsl.pipeline(\n",
    "    pipeline_root=PIPELINE_ROOT,\n",
    "    name=PIPELINE_NAME,\n",
    ")\n",
    "def pipeline():\n",
    "    data = dump_data_op()\n",
    "    model_build_op = kfp.components.load_component_from_file('model_build_component.yaml')\n",
    "    model_build_op(input_dataset_path=data.outputs['output_dataset'],n_estimators=2)"
   ]
  },
  {
   "cell_type": "code",
   "execution_count": null,
   "id": "f2cc294d-f42a-46a2-bacb-c53b48c718ce",
   "metadata": {},
   "outputs": [],
   "source": [
    "from kfp.v2 import compiler  # noqa: F811\n",
    "\n",
    "compiler.Compiler().compile(\n",
    "    pipeline_func=pipeline,\n",
    "    package_path=f\"{PIPELINE_NAME}.json\",\n",
    ")"
   ]
  },
  {
   "cell_type": "code",
   "execution_count": null,
   "id": "49ef3512-162c-40fc-aed4-70879ed3c592",
   "metadata": {},
   "outputs": [],
   "source": [
    "from google.cloud import aiplatform\n",
    "from datetime import datetime\n",
    "\n",
    "TIMESTAMP = datetime.now().strftime(\"%Y%m%d%H%M%S\")\n",
    "job = aiplatform.PipelineJob(\n",
    "    display_name=\"custom-test-dockernise-models-pipeline\",\n",
    "    template_path=f\"{PIPELINE_NAME}.json\",\n",
    "    job_id=\"test-dockernise-models-pipeline-{}\".format(TIMESTAMP),\n",
    "    pipeline_root=PIPELINE_ROOT,\n",
    "    enable_caching=True,\n",
    ")\n",
    "\n",
    "job.submit()\n"
   ]
  }
 ],
 "metadata": {
  "kernelspec": {
   "display_name": "Python (Local)",
   "language": "python",
   "name": "local-base"
  },
  "language_info": {
   "codemirror_mode": {
    "name": "ipython",
    "version": 3
   },
   "file_extension": ".py",
   "mimetype": "text/x-python",
   "name": "python",
   "nbconvert_exporter": "python",
   "pygments_lexer": "ipython3",
   "version": "3.7.12"
  }
 },
 "nbformat": 4,
 "nbformat_minor": 5
}
