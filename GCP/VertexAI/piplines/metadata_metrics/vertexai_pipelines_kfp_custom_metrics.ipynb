{
 "cells": [
  {
   "cell_type": "code",
   "execution_count": 1,
   "id": "32b24ca7-3ecb-464b-8357-86328165a7d2",
   "metadata": {},
   "outputs": [],
   "source": [
    "import kfp.dsl as dsl\n",
    "from kfp.v2 import compiler\n",
    "from kfp.v2.google.client import AIPlatformClient\n",
    "from kfp.v2.dsl import component,Model,Output,Dataset\n",
    "from typing import List,Union,Tuple,NamedTuple\n",
    "from kfp.v2.dsl import Input, Model, Output, Dataset, Metrics, ClassificationMetrics, component, Artifact"
   ]
  },
  {
   "cell_type": "code",
   "execution_count": 4,
   "id": "42dd7a61-e2dd-40a3-9006-a33397a0bce7",
   "metadata": {},
   "outputs": [],
   "source": [
    "@component(\n",
    "    packages_to_install=[\"scikit-learn\"],\n",
    "    base_image=\"python:3.9\",\n",
    ")\n",
    "def wine_classification(\n",
    "    wmetrics: Output[ClassificationMetrics]\n",
    "):\n",
    "    from sklearn.datasets import load_wine\n",
    "    from sklearn.ensemble import RandomForestClassifier\n",
    "    from sklearn.metrics import roc_curve\n",
    "    from sklearn.model_selection import cross_val_predict, train_test_split\n",
    "\n",
    "    X, y = load_wine(return_X_y=True)\n",
    "    y = y == 1\n",
    "\n",
    "    X_train, X_test, y_train, y_test = train_test_split(X, y, random_state=42)\n",
    "    rfc = RandomForestClassifier(n_estimators=10, random_state=42)\n",
    "    rfc.fit(X_train, y_train)\n",
    "    y_scores = cross_val_predict(rfc, X_train, y_train, cv=3, method=\"predict_proba\")\n",
    "    fpr, tpr, thresholds = roc_curve(\n",
    "        y_true=y_train, y_score=y_scores[:, 1], pos_label=True\n",
    "    )\n",
    "    wmetrics.log_roc_curve(fpr, tpr, thresholds)"
   ]
  },
  {
   "cell_type": "code",
   "execution_count": 5,
   "id": "83e1761f-359d-4b26-b35f-24d06bb016d3",
   "metadata": {},
   "outputs": [],
   "source": [
    "@component(packages_to_install=[\"scikit-learn\"], base_image=\"python:3.9\")\n",
    "def iris_sgdclassifier(\n",
    "    test_samples_fraction: float,\n",
    "    metricsc: Output[ClassificationMetrics],\n",
    "):\n",
    "    from sklearn import datasets, model_selection\n",
    "    from sklearn.linear_model import SGDClassifier\n",
    "    from sklearn.metrics import confusion_matrix\n",
    "\n",
    "    iris_dataset = datasets.load_iris()\n",
    "    train_x, test_x, train_y, test_y = model_selection.train_test_split(\n",
    "        iris_dataset[\"data\"],\n",
    "        iris_dataset[\"target\"],\n",
    "        test_size=test_samples_fraction,\n",
    "    )\n",
    "\n",
    "    classifier = SGDClassifier()\n",
    "    classifier.fit(train_x, train_y)\n",
    "    predictions = model_selection.cross_val_predict(classifier, train_x, train_y, cv=3)\n",
    "    metricsc.log_confusion_matrix(\n",
    "        [\"Setosa\", \"Versicolour\", \"Virginica\"],\n",
    "        confusion_matrix(\n",
    "            train_y, predictions\n",
    "        ).tolist(),  # .tolist() to convert np array to list.\n",
    "    )"
   ]
  },
  {
   "cell_type": "code",
   "execution_count": 6,
   "id": "3c5cee66-e693-465a-ace1-bb679a5decd8",
   "metadata": {},
   "outputs": [],
   "source": [
    "@component(\n",
    "    packages_to_install=[\"scikit-learn\"],\n",
    "    base_image=\"python:3.9\",\n",
    ")\n",
    "def iris_logregression(\n",
    "    input_seed: int,\n",
    "    split_count: int,\n",
    "    metrics: Output[Metrics],\n",
    "):\n",
    "    from sklearn import datasets, model_selection\n",
    "    from sklearn.linear_model import LogisticRegression\n",
    "\n",
    "    # Load digits dataset\n",
    "    iris = datasets.load_iris()\n",
    "    # # Create feature matrix\n",
    "    X = iris.data\n",
    "    # Create target vector\n",
    "    y = iris.target\n",
    "    # test size\n",
    "    test_size = 0.20\n",
    "\n",
    "    # cross-validation settings\n",
    "    kfold = model_selection.KFold(\n",
    "        n_splits=split_count, random_state=input_seed, shuffle=True\n",
    "    )\n",
    "    # Model instance\n",
    "    model = LogisticRegression()\n",
    "    scoring = \"accuracy\"\n",
    "    results = model_selection.cross_val_score(model, X, y, cv=kfold, scoring=scoring)\n",
    "    print(f\"results: {results}\")\n",
    "\n",
    "    # split data\n",
    "    X_train, X_test, y_train, y_test = model_selection.train_test_split(\n",
    "        X, y, test_size=test_size, random_state=input_seed\n",
    "    )\n",
    "    # fit model\n",
    "    model.fit(X_train, y_train)\n",
    "\n",
    "    # accuracy on test set\n",
    "    result = model.score(X_test, y_test)\n",
    "    print(f\"result: {result}\")\n",
    "    metrics.log_metric(\"accuracy\", (result * 100.0))"
   ]
  },
  {
   "cell_type": "code",
   "execution_count": 9,
   "id": "94e492b9-1145-45ab-ba49-bd32b3329413",
   "metadata": {},
   "outputs": [],
   "source": [
    "PROJECT_ID = \"XXXXX\"\n",
    "BUCKET_NAME = 'XXXXX-vertex-pipelines'\n",
    "PIPELINE_NAME = 'pipeline-custom-metrics'\n",
    "PIPELINE_ROOT = 'gs://XXXXX/test_metrics'\n",
    "\n",
    "@dsl.pipeline(\n",
    "    pipeline_root=PIPELINE_ROOT,\n",
    "    name=PIPELINE_NAME,\n",
    ")\n",
    "def pipeline(seed: int, splits: int):\n",
    "    wine_classification_op = wine_classification()\n",
    "    iris_logregression_op = iris_logregression(\n",
    "        input_seed=seed, split_count=splits\n",
    "    )\n",
    "    iris_sgdclassifier_op = iris_sgdclassifier(test_samples_fraction=0.3)"
   ]
  },
  {
   "cell_type": "code",
   "execution_count": 10,
   "id": "46431ad3-9853-40c0-80c3-ee56f7d6833e",
   "metadata": {},
   "outputs": [],
   "source": [
    "from kfp.v2 import compiler\n",
    "\n",
    "compiler.Compiler().compile(\n",
    "    pipeline_func=pipeline,\n",
    "    package_path=f\"{PIPELINE_NAME}.json\",\n",
    ")"
   ]
  },
  {
   "cell_type": "code",
   "execution_count": null,
   "id": "6f9bb576-66c9-4327-a909-778b6f1823b7",
   "metadata": {},
   "outputs": [],
   "source": [
    "from google.cloud import aiplatform\n",
    "from datetime import datetime\n",
    "\n",
    "TIMESTAMP = datetime.now().strftime(\"%Y%m%d%H%M%S\")\n",
    "job = aiplatform.PipelineJob(\n",
    "    display_name=\"custom-metrics-pipeline\",\n",
    "    template_path=f\"{PIPELINE_NAME}.json\",\n",
    "    job_id=\"custom-metrics-pipeline-{}\".format(TIMESTAMP),\n",
    "    pipeline_root=PIPELINE_ROOT,\n",
    "    parameter_values={\"seed\": 7, \"splits\": 10},\n",
    "    enable_caching=True,\n",
    ")\n",
    "\n",
    "job.submit()\n"
   ]
  },
  {
   "cell_type": "code",
   "execution_count": null,
   "id": "8e0c8ea0-9180-48f3-bae5-3763b3753db7",
   "metadata": {},
   "outputs": [],
   "source": [
    "pipeline_df = aiplatform.get_pipeline_df(pipeline=PIPELINE_NAME)\n",
    "pipeline_df.head()"
   ]
  },
  {
   "cell_type": "code",
   "execution_count": null,
   "id": "28fd2302-e7e1-457a-944f-2c0d9938c372",
   "metadata": {},
   "outputs": [],
   "source": [
    "import matplotlib.pyplot as plt\n",
    "import numpy as np\n",
    "import pandas as pd\n",
    "\n",
    "plt.rcParams[\"figure.figsize\"] = [15, 5]\n",
    "\n",
    "pipeline_df[\"param.input:seed\"] = pipeline_df[\"param.input:seed\"].astype(np.float16)\n",
    "pipeline_df[\"param.input:splits\"] = pipeline_df[\"param.input:splits\"].astype(np.float16)\n",
    "\n",
    "ax = pd.plotting.parallel_coordinates(\n",
    "    pipeline_df.reset_index(level=0),\n",
    "    \"run_name\",\n",
    "    cols=[\"param.input:seed\", \"param.input:splits\", \"metric.accuracy\"],\n",
    ")\n",
    "ax.set_yscale(\"symlog\")\n",
    "ax.legend(bbox_to_anchor=(1.0, 0.5))"
   ]
  },
  {
   "cell_type": "code",
   "execution_count": null,
   "id": "b1beb3f9-58b1-4aca-8596-82c35b8c3e3e",
   "metadata": {},
   "outputs": [],
   "source": [
    "try:\n",
    "    df = pd.DataFrame(pipeline_df[\"metric.confidenceMetrics\"][0])\n",
    "    auc = np.trapz(df[\"recall\"], df[\"falsePositiveRate\"])\n",
    "    plt.plot(df[\"falsePositiveRate\"], df[\"recall\"], label=\"auc=\" + str(auc))\n",
    "    plt.legend(loc=4)\n",
    "    plt.show()\n",
    "except Exception as e:\n",
    "    print(e)"
   ]
  },
  {
   "cell_type": "code",
   "execution_count": null,
   "id": "d08e859f-2dd8-42d8-84b3-d3e317be5332",
   "metadata": {},
   "outputs": [],
   "source": [
    "# ref: https://github.com/GoogleCloudPlatform/vertex-ai-samples/blob/main/notebooks/official/pipelines/metrics_viz_run_compare_kfp.ipynb"
   ]
  }
 ],
 "metadata": {
  "kernelspec": {
   "display_name": "Python (Local)",
   "language": "python",
   "name": "local-base"
  },
  "language_info": {
   "codemirror_mode": {
    "name": "ipython",
    "version": 3
   },
   "file_extension": ".py",
   "mimetype": "text/x-python",
   "name": "python",
   "nbconvert_exporter": "python",
   "pygments_lexer": "ipython3",
   "version": "3.7.12"
  }
 },
 "nbformat": 4,
 "nbformat_minor": 5
}
