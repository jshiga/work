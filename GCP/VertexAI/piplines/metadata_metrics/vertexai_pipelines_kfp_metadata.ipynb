{
 "cells": [
  {
   "cell_type": "code",
   "execution_count": 1,
   "id": "aa19ee5b-4dc9-4e7c-9cd0-cbbf778c1db4",
   "metadata": {},
   "outputs": [],
   "source": [
    "import kfp.dsl as dsl\n",
    "from kfp.v2 import compiler\n",
    "from kfp.v2.google.client import AIPlatformClient\n",
    "from kfp.v2.dsl import component,Model,Output,Dataset\n",
    "from typing import List,Union,Tuple,NamedTuple\n",
    "from kfp.v2.dsl import Input, Model, Output, Dataset, Metrics, ClassificationMetrics, component, Artifact"
   ]
  },
  {
   "cell_type": "code",
   "execution_count": 50,
   "id": "8e466dcc-9eb8-4e2f-9d2d-900c8f46abef",
   "metadata": {},
   "outputs": [],
   "source": [
    "PROJECT_ID = \"XXXXXX\"\n",
    "BUCKET_NAME = 'XXXXXX'\n",
    "PIPELINE_NAME = 'pipeline-test-metadata'\n",
    "PIPELINE_ROOT = 'gs://XXXXXX/test_metadata'"
   ]
  },
  {
   "cell_type": "code",
   "execution_count": 68,
   "id": "b87a3ee5-d4bf-4926-afb8-33b2d2b4e8a8",
   "metadata": {},
   "outputs": [],
   "source": [
    "@component(base_image='gcr.io/deeplearning-platform-release/sklearn-cpu:latest')\n",
    "def get_data_op(\n",
    "        output_dataset:Output[Dataset]\n",
    ")->None:\n",
    "    from sklearn.datasets import fetch_california_housing\n",
    "    from sklearn.model_selection import train_test_split\n",
    "    import os\n",
    "    import pandas as pd\n",
    "    california = fetch_california_housing()\n",
    "    x = california.data \n",
    "    y = california.target \n",
    "    # output\n",
    "    os.makedirs(output_dataset.path, exist_ok=True)# kubeflowが作るdatasetのパスを作成\n",
    "    pd.DataFrame(x).to_csv(os.path.join(output_dataset.path, 'x.csv'),index=False) # 直接ファイルを吐き出す\n",
    "    print(f'File path: {output_dataset.path}')\n"
   ]
  },
  {
   "cell_type": "code",
   "execution_count": 69,
   "id": "f0ed547e-d43f-4a5f-9b57-2f1252dc1e01",
   "metadata": {},
   "outputs": [],
   "source": [
    "@component(base_image='gcr.io/deeplearning-platform-release/sklearn-cpu:latest')\n",
    "def train(\n",
    "        input_dataset: Input[Dataset], # データセットとして入力を受け取る\n",
    ")->None:\n",
    "    import pandas as pd\n",
    "    import os\n",
    "    print('input_dataset:',input_dataset)\n",
    "    print('input_dataset.path:',input_dataset.path)\n",
    "    df_input = pd.read_csv(os.path.join(input_dataset.path, 'x.csv'))\n",
    "    print('df_input.head(): ',df_input.head())"
   ]
  },
  {
   "cell_type": "code",
   "execution_count": 70,
   "id": "d06bf92b-57c5-4d2b-aa04-abdac05b415e",
   "metadata": {},
   "outputs": [],
   "source": [
    "# パイプライン構築\n",
    "@dsl.pipeline(\n",
    "    name=PIPELINE_NAME,\n",
    "    description='XXXXXX_test_metadata',\n",
    "    pipeline_root=PIPELINE_ROOT\n",
    ")\n",
    "def pipeline(PROJECT_ID:str,BUCKET_NAME:str,PIPELINE_ROOT:str):\n",
    "    get_data = get_data_op()\n",
    "    train(input_dataset=get_data.outputs['output_dataset'])"
   ]
  },
  {
   "cell_type": "code",
   "execution_count": null,
   "id": "7e6f41eb-a7b9-4983-9693-218d1b1cffe6",
   "metadata": {},
   "outputs": [],
   "source": [
    "# パイプラインのコンパイル\n",
    "compiler.Compiler().compile(pipeline_func=pipeline, package_path='./XXXXXX.json')"
   ]
  },
  {
   "cell_type": "code",
   "execution_count": 72,
   "id": "a238169a-fc12-4498-b2fe-e1a8b6de93e8",
   "metadata": {},
   "outputs": [],
   "source": [
    "from datetime import datetime\n",
    "TIMESTAMP = datetime.now().strftime(\"%Y%m%d%H%M%S\")\n",
    "\n",
    "from google.cloud import aiplatform\n",
    "pipeline_job = aiplatform.PipelineJob(\n",
    "    display_name=\"metadata-pipeline\",\n",
    "    template_path=\"XXXXX/metadata_pipeline.json\",\n",
    "    job_id=\"metadata-pipeline-{}\".format(TIMESTAMP),\n",
    "    parameter_values={\n",
    "        \"PROJECT_ID\":PROJECT_ID,\n",
    "        \"BUCKET_NAME\":BUCKET_NAME,\n",
    "        \"PIPELINE_ROOT\":PIPELINE_ROOT\n",
    "    },\n",
    "    enable_caching=True,\n",
    ")"
   ]
  },
  {
   "cell_type": "code",
   "execution_count": null,
   "id": "66eeea6d-52d7-4adb-b27c-6440e3de9940",
   "metadata": {},
   "outputs": [],
   "source": [
    "pipeline_job.submit()"
   ]
  }
 ],
 "metadata": {
  "kernelspec": {
   "display_name": "Python (Local)",
   "language": "python",
   "name": "local-base"
  },
  "language_info": {
   "codemirror_mode": {
    "name": "ipython",
    "version": 3
   },
   "file_extension": ".py",
   "mimetype": "text/x-python",
   "name": "python",
   "nbconvert_exporter": "python",
   "pygments_lexer": "ipython3",
   "version": "3.7.12"
  }
 },
 "nbformat": 4,
 "nbformat_minor": 5
}
