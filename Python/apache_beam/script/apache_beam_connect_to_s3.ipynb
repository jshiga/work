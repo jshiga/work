{
 "cells": [
  {
   "cell_type": "code",
   "execution_count": 381,
   "id": "79da598f-df97-4f05-9604-63c8c10483f5",
   "metadata": {
    "tags": []
   },
   "outputs": [],
   "source": [
    "from apache_beam.io.aws.s3io import parse_s3_path,S3IO\n",
    "from apache_beam.options import pipeline_options\n",
    "import os\n",
    "import boto3\n",
    "import csv\n",
    "import pandas as pd"
   ]
  },
  {
   "cell_type": "code",
   "execution_count": 382,
   "id": "a3906192-4a72-41e1-8e89-8fc7e6946c7a",
   "metadata": {
    "tags": []
   },
   "outputs": [],
   "source": [
    "import apache_beam as beam\n",
    "from apache_beam.runners.interactive import interactive_runner\n",
    "from apache_beam.runners.interactive.interactive_beam import *\n",
    "import apache_beam.runners.interactive.interactive_beam as ib\n",
    "from apache_beam.dataframe import convert\n",
    "from apache_beam.dataframe.io import read_csv\n",
    "import numpy as np"
   ]
  },
  {
   "cell_type": "code",
   "execution_count": 383,
   "id": "bcbb302e-54cd-44fe-8da9-fce3b2a7b803",
   "metadata": {
    "tags": []
   },
   "outputs": [],
   "source": [
    "SECRET_ACCESS_KEY = os.getenv('AWS_ACCESS_KEY_ID')\n",
    "ACCESS_KEY_ID = os.getenv('AWS_ACCESS_KEY_ID')\n",
    "REGION = os.getenv('DEFAULT_REGION')"
   ]
  },
  {
   "cell_type": "code",
   "execution_count": 397,
   "id": "33353eb0-04a1-434c-bb2d-5f13be94691d",
   "metadata": {
    "tags": []
   },
   "outputs": [],
   "source": [
    "def parse_file(element):\n",
    "    for line in csv.reader(\n",
    "        [element],\n",
    "        quotechar='\"',\n",
    "        delimiter=\",\",\n",
    "        skipinitialspace=True,\n",
    "    ):\n",
    "        return line"
   ]
  },
  {
   "cell_type": "code",
   "execution_count": 385,
   "id": "b518d25a-724f-45cd-bb7e-64b1454a92d9",
   "metadata": {
    "tags": []
   },
   "outputs": [],
   "source": [
    "def convert_dict(element):\n",
    "    return {\n",
    "        \"name\": element[0],\n",
    "        \"height\": int(element[1]),\n",
    "        \"weight\": int(element[2]),\n",
    "    }"
   ]
  },
  {
   "cell_type": "code",
   "execution_count": 386,
   "id": "c620239e-7cd1-498d-a7b0-5a57d20e8149",
   "metadata": {
    "tags": []
   },
   "outputs": [],
   "source": [
    "class ConvertToByteArray(beam.DoFn):\n",
    "    def __init__(self):\n",
    "        pass\n",
    "\n",
    "    def setup(self):\n",
    "        pass\n",
    "\n",
    "    def process(self, row):\n",
    "        try:\n",
    "            yield bytearray(str(row) + '\\n', 'utf-8')\n",
    "\n",
    "        except Exception as e:\n",
    "            raise e"
   ]
  },
  {
   "cell_type": "code",
   "execution_count": 398,
   "id": "5ac6d073-0054-4b0c-8c7c-4bbe9ca023c7",
   "metadata": {
    "tags": []
   },
   "outputs": [],
   "source": [
    "def write_to_s3(value):\n",
    "    S3IO(\n",
    "        options=pipeline_options.S3Options(\n",
    "            [\n",
    "                f\"--s3_region_name={REGION}\",\n",
    "                f\"--s3_access_key_id={ACCESS_KEY_ID}\",\n",
    "                f\"--s3_secret_access_key={SECRET_ACCESS_KEY}\",\n",
    "                \"--s3_endpoint_url=http://localstack:4566\",\n",
    "            ]\n",
    "        )\n",
    "    ).open('s3://test-bucket/file/output_filename.txt', mode='w').writelines(value[1])"
   ]
  },
  {
   "cell_type": "code",
   "execution_count": 394,
   "id": "3f2f0be4-23c0-4bc4-88d3-c246790ea4dc",
   "metadata": {
    "tags": []
   },
   "outputs": [],
   "source": [
    "options = pipeline_options.PipelineOptions()\n",
    "options.view_as(pipeline_options.StandardOptions).streaming = False"
   ]
  },
  {
   "cell_type": "code",
   "execution_count": null,
   "id": "bb1f91fc-4b55-404e-b851-6413cbe6ea44",
   "metadata": {
    "tags": []
   },
   "outputs": [],
   "source": [
    "with beam.Pipeline(interactive_runner.InteractiveRunner(), options=options) as p:\n",
    "    input_data = (\n",
    "        p\n",
    "        | 'read csv' >> beam.io.ReadFromText('./test.csv')\n",
    "        | 'parse csv' >> beam.Map(parse_file)\n",
    "        | 'convert dict' >> beam.Map(convert_dict)\n",
    "    )\n",
    "    height_average = (\n",
    "        input_data\n",
    "        | 'extract height' >> beam.Map(lambda x: x['height'])\n",
    "        | 'compute mean height' >> beam.combiners.Mean.Globally()\n",
    "    )\n",
    "    weight_average = (\n",
    "        input_data\n",
    "        | 'extract weight' >> beam.Map(lambda x: x['weight'])\n",
    "        | 'compute mean weight' >> beam.combiners.Mean.Globally()\n",
    "    )\n",
    "    output_mean = (\n",
    "        (height_average,weight_average)\n",
    "        | beam.Flatten()\n",
    "        | beam.Map(lambda x: {\"mean\":x})        \n",
    "        | 'Build byte array' >> beam.ParDo(ConvertToByteArray()) # S3への出力\n",
    "        | 'Group' >> beam.GroupBy()\n",
    "        | 'Write to S3' >> beam.Map(write_to_s3)\n",
    "    )"
   ]
  },
  {
   "cell_type": "code",
   "execution_count": null,
   "id": "d9c19b6c-f191-4870-878c-2eb4bd44b6ac",
   "metadata": {},
   "outputs": [],
   "source": [
    "# ref\n",
    "# https://future-architect.github.io/articles/20220920a/\n",
    "# https://dev.classmethod.jp/articles/cloud-dataflow_gcs2bq_python/\n",
    "# https://python.plainenglish.io/using-apache-beam-and-aws-s3-storage-i-o-transforms-in-python-6cabe2a8d592\n",
    "# https://towardsdatascience.com/data-pipelines-with-apache-beam-86cd8eb55fd8"
   ]
  },
  {
   "cell_type": "code",
   "execution_count": null,
   "id": "29d17d96-9651-400e-b110-5e1f19de8b2d",
   "metadata": {},
   "outputs": [],
   "source": []
  },
  {
   "cell_type": "code",
   "execution_count": null,
   "id": "d86c9285-de58-4052-8801-7e3308990b97",
   "metadata": {},
   "outputs": [],
   "source": []
  },
  {
   "cell_type": "code",
   "execution_count": null,
   "id": "dfa6c31c-b2e7-4c6a-8410-afdae381bdeb",
   "metadata": {},
   "outputs": [],
   "source": []
  },
  {
   "cell_type": "code",
   "execution_count": null,
   "id": "98b6afd7-ff81-4120-8f61-ca0a14c9bea8",
   "metadata": {},
   "outputs": [],
   "source": []
  },
  {
   "cell_type": "code",
   "execution_count": null,
   "id": "adec8069-9294-438c-a344-00ee97797843",
   "metadata": {},
   "outputs": [],
   "source": []
  }
 ],
 "metadata": {
  "kernelspec": {
   "display_name": "Python 3 (ipykernel)",
   "language": "python",
   "name": "python3"
  },
  "language_info": {
   "codemirror_mode": {
    "name": "ipython",
    "version": 3
   },
   "file_extension": ".py",
   "mimetype": "text/x-python",
   "name": "python",
   "nbconvert_exporter": "python",
   "pygments_lexer": "ipython3",
   "version": "3.10.11"
  }
 },
 "nbformat": 4,
 "nbformat_minor": 5
}
